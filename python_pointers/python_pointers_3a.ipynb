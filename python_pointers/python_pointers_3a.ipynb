{
 "cells": [
  {
   "cell_type": "markdown",
   "metadata": {
    "editable": true,
    "slideshow": {
     "slide_type": ""
    },
    "tags": []
   },
   "source": [
    "# Python Pointers (vol. 3)\n",
    "\n",
    "## Fun with f-strings\n",
    "\n",
    "Reminder: there are several ways to make formatted strings in Python, but \"f-strings\" are the easiest and best.\n",
    "\n",
    "\n"
   ]
  },
  {
   "cell_type": "code",
   "execution_count": 138,
   "metadata": {
    "editable": true,
    "slideshow": {
     "slide_type": ""
    },
    "tags": []
   },
   "outputs": [
    {
     "name": "stdout",
     "output_type": "stream",
     "text": [
      "the 0th element of values is 2\n",
      "the 1th element of values is 3\n",
      "the 2th element of values is 6\n",
      "the 3th element of values is 5\n",
      "the 4th element of values is 1\n",
      "No need to `a = {a}`, just write `{a = }`: values[2] = 6\n"
     ]
    }
   ],
   "source": [
    "#\n",
    "# f-string application: insert values into a string and print it\n",
    "#\n",
    "values = [2, 3, 6, 5, 1]\n",
    "\n",
    "[print(f'the {i}th element of values is {v}') for i, v in enumerate(values)]\n",
    "\n",
    "# from python 3.8 onward:\n",
    "print(f\"No need to `a = {{a}}`, just write `{{a = }}`: {values[2] = }\")"
   ]
  },
  {
   "cell_type": "markdown",
   "metadata": {},
   "source": [
    "In the next cell we look at a list of items that have mixed types (float, integer and string). In the first `print` statement, we just print the value, which is fine sometimes, but might not be tidy enough for generating a table or annotating a plot. In the second `print` statement, we loop through and use `:` to apply a format string to the elements. I included a string in the list, which can't be formatted as a float. This is just to show additionally how to do a check to see if the formatting is appropriate. Here we check whether the element is a number using `isinstance(v, numbers.Number)`. This also shows how to apply conditional formatting. "
   ]
  },
  {
   "cell_type": "code",
   "execution_count": 139,
   "metadata": {
    "editable": true,
    "slideshow": {
     "slide_type": ""
    },
    "tags": []
   },
   "outputs": [
    {
     "name": "stdout",
     "output_type": "stream",
     "text": [
      "10.9999848587273\n",
      "0.3333333333333333\n",
      "44.200001\n",
      "9\n",
      "-10\n",
      "-999\n",
      "a string???\n",
      "the 0th element of values is 11.0000\n",
      "the 1th element of values is 0.3333\n",
      "the 2th element of values is 44.2000\n",
      "the 3th element of values is 9.0000\n",
      "the 4th element of values is -10.0000\n",
      "the 5th element of values is -999.0000\n",
      "the 6th element of values is a string???\n"
     ]
    },
    {
     "data": {
      "text/plain": [
       "[None, None, None, None, None, None, None]"
      ]
     },
     "execution_count": 139,
     "metadata": {},
     "output_type": "execute_result"
    }
   ],
   "source": [
    "#\n",
    "# f-string application 2: use the colon (\":\") to provide a formatting string. Can be used for precision or string formatting. \n",
    "#\n",
    "import numbers\n",
    "\n",
    "values2 = [10.9999848587273, 1/3, 44.200001, 9, -10, -999, \"a string???\"]\n",
    "\n",
    "[print(v) for v in values2]  # no formatting\n",
    "\n",
    "[print(f\"the {i}th element of values is {v:{\"6.4f\" if isinstance(v, numbers.Number) else \"\"}}\") for i, v in enumerate(values2)]\n"
   ]
  },
  {
   "cell_type": "markdown",
   "metadata": {},
   "source": [
    "In the following cell, we import `datetime` and get today's date as a `datetime` object. Datetime objects can be formatted using syntax described here:\n",
    "https://docs.python.org/3/library/datetime.html#strftime-strptime-behavior\n",
    "\n",
    "Use `datetime.strptime` to take a plain text string and convert it to a `datetime` object by specifying the format. Here we do that for two dates of python version releases.\n",
    "\n",
    "Then we use fstrings to print how long ago those python versions were released. To do that, we take the difference between the `datetime` objects for today and those release dates, use the `.days` method to convert that `timedelta` to days and divide by 365 to convert to years. Then we use the `:` to apply formatting to that value. "
   ]
  },
  {
   "cell_type": "code",
   "execution_count": 140,
   "metadata": {
    "editable": true,
    "slideshow": {
     "slide_type": ""
    },
    "tags": []
   },
   "outputs": [
    {
     "name": "stdout",
     "output_type": "stream",
     "text": [
      "The current date and time is 2024-01-25 13:54 PM\n",
      "Python 3.6 was released  7.1 years ago\n",
      "Python 3.8 was released  4.3 years ago\n"
     ]
    }
   ],
   "source": [
    "from datetime import datetime\n",
    "\n",
    "print(f'The current date and time is {datetime.today():%Y-%m-%d %H:%M %p}')\n",
    "\n",
    "\n",
    "p3p6release = datetime.strptime(\"23 December 2016\", \"%d %B %Y\")\n",
    "p3p8release = datetime.strptime(\"14 October 2019\", \"%d %B %Y\")\n",
    "today = datetime.today()\n",
    "\n",
    "print(f\"Python 3.6 was released {(today - p3p6release).days / 365 : 2.1f} years ago\")\n",
    "print(f\"Python 3.8 was released {(today - p3p8release).days / 365 : 2.1f} years ago\")"
   ]
  },
  {
   "cell_type": "markdown",
   "metadata": {},
   "source": [
    "Starting in Python 3.12, the f-string parser was improved. The most obvious way this will impact most users is that we do not need to take special care to change the quote-mark-style between the style used for the f-string and the style used inside the expressions. That is, you can demark the f-string with double-quotes `\"` and then use double-quotes inside expressions without raising an exception. **Before python 3.12** this was an error, and we would need to change, such as `f\"a string with some additional string inside like {'\\n'}\"`."
   ]
  },
  {
   "cell_type": "code",
   "execution_count": 141,
   "metadata": {},
   "outputs": [
    {
     "name": "stdout",
     "output_type": "stream",
     "text": [
      "Python version:\n",
      "3.12.0 | packaged by conda-forge | (main, Oct  3 2023, 08:36:57) [Clang 15.0.7 ] \n",
      " \t note that the same double-quotes used in f-string expression.\n"
     ]
    }
   ],
   "source": [
    "#\n",
    "# f-string application 4: better parsing in python 3.12, includes being able to repeat quote-mark character inside expressions\n",
    "#\n",
    "import sys\n",
    "pyversion = sys.version\n",
    "print(f\"{\"\\n\".join([\"Python version:\",pyversion])} \\n \\t note that the same double-quotes used in f-string expression.\")\n"
   ]
  },
  {
   "cell_type": "markdown",
   "metadata": {},
   "source": [
    "### Why am I still harping on f-strings?\n",
    "\n",
    "To me, there are a couple of key advantages to using f-strings compared to other options. The main one is that f-strings are more readable than most other options in most circumstances. Second, I think f-string tend to be more reliable than using string concatenation or similar string-operations. Third, it turns out that f-strings are somewhat more efficient than older string-formatting options. \n",
    "\n",
    "In the next cell, we show how string contenation works using the `+` operator. That's great, and one is tempted to use that for simple printing, but it fails. This is shown in a `try/except` block so that we can run the full cell. The error is that you can't concatenate a string with an integer in this case. \n",
    "\n",
    "The third section shows printing comma-separated values. The python `print` method treats comma-separated values with a special case: it prints each value separated by a space. This is great for many cases, but remember that this is special treatment within the `print` method. If the intention is to construct a string to be used somewhere else, however, the comma-separated values revert to the normal python behavior and produce a tuple. \n"
   ]
  },
  {
   "cell_type": "code",
   "execution_count": 142,
   "metadata": {},
   "outputs": [
    {
     "name": "stdout",
     "output_type": "stream",
     "text": [
      "abcdef\n",
      "abcdef\n",
      "The statement raises an exception occurred:\n",
      "\n",
      "can only concatenate str (not \"int\") to str\n",
      "My value is 2\n",
      "My value is 3\n",
      "My value is 6\n",
      "My value is 5\n",
      "My value is 1\n",
      "('My value is', 5)\n",
      "<class 'tuple'>\n",
      "Enter s as a label somewhere and get: ('My value is', 5)\n"
     ]
    }
   ],
   "source": [
    "catstring = \"abc\" + \"def\"\n",
    "print(catstring)\n",
    "# note that another method to concatenate strings is:\n",
    "catstring2 = \"\".join([\"abc\", \"def\"])\n",
    "print(catstring2)\n",
    "\n",
    "# can not concatenate string and non-string:\n",
    "try: \n",
    "    for i in values:\n",
    "        print(\"My value is\" + i)\n",
    "except Exception as error:\n",
    "    # handle the exception\n",
    "    print(f\"The statement raises an exception occurred:\\n\\n{error}\") \n",
    "\n",
    "\n",
    "# comma-separated values are treated nicely by `print`\n",
    "for i in values:\n",
    "    print(\"My value is\",i)\n",
    "\n",
    "# separate from `print` things break down\n",
    "s = \"My value is\",values[3]\n",
    "print(s)  # since s is already a tuple, print can't help here\n",
    "print(type(s))\n",
    "print(f\"Enter s as a label somewhere and get: {s}\")\n",
    "\n"
   ]
  },
  {
   "cell_type": "markdown",
   "metadata": {},
   "source": [
    "A common need is to build up some name as a string that is then used to access data. In the next cell, I show a simple example. \n",
    "\n",
    "First, to make this notebook stand-alone, we construct a synthetic Xarray dataset. \n",
    "\n",
    "Then just an example of constructing the variable name using an fstring and getting a value out of the dataset.\n",
    "\n",
    "The end shows how to reduce the resulting xarray from a `DataArray` to just a scalar by first using `.values` to reduce to just the underlying numpy array and then the numpy `.item()` method to convert to a scalar. \n",
    "\n",
    "There are other ways to build that string for the variable name. For example, \n",
    "```\n",
    "\"_\".join([z,frq, 'all', smp])\n",
    "```\n",
    "This is perfectly fine, but I find that consistently using f-strings is the fastest way to get code working. I usually only move to other approaches if the operations are getting too complicated to be able to easily read the f-string construction."
   ]
  },
  {
   "cell_type": "code",
   "execution_count": 143,
   "metadata": {},
   "outputs": [
    {
     "name": "stdout",
     "output_type": "stream",
     "text": [
      "My data value is <xarray.DataArray 'toa_lw_all_mon' ()>\n",
      "array(0.31482101)\n",
      "Coordinates:\n",
      "    lat      int64 30\n",
      "    lon      int64 280\n",
      "😖\n",
      "My scalar data value is 0.3148210128195048 (😀)\n"
     ]
    }
   ],
   "source": [
    "import xarray as xr\n",
    "import numpy as np\n",
    "# construct fake dataset\n",
    "rng = np.random.default_rng(77665809) # random number generator\n",
    "lat = xr.DataArray(np.arange(-90, 95, 5), dims='lat', attrs={'units':'degrees_north'})\n",
    "lon = xr.DataArray(np.arange(0, 365, 5), dims='lon', attrs={'units':'degrees_east'})\n",
    "data1 = xr.DataArray(rng.random((len(lat), len(lon))), dims=['lat','lon'], coords={'lat':lat,'lon':lon})\n",
    "data1.name = 'toa_lw_all_mon'\n",
    "data2 = xr.DataArray(rng.random((len(lat), len(lon))), dims=['lat','lon'], coords={'lat':lat,'lon':lon})\n",
    "data2.name = 'sfc_sw_all_mon'\n",
    "ds = xr.merge([data1,data2])\n",
    "\n",
    "\n",
    "# let's assume we have somehow determined which parameters we need:\n",
    "z = \"toa\"; frq = \"lw\"; smp = \"mon\"; latpt = 30; lonpt = 280\n",
    "\n",
    "# construct the variable name:\n",
    "varName = f\"{z}_{frq}_all_{smp}\"\n",
    "\n",
    "# get the data at specified point:\n",
    "data = ds[varName].sel(lat=latpt, lon=lonpt, method='nearest')\n",
    "\n",
    "# try to print it:\n",
    "print(f\"My data value is {data}\")\n",
    "\n",
    "print(\"😖\") # 😖 -- it prints a bunch of info along with the value!\n",
    "\n",
    "print(f\"My scalar data value is {data.values.item()} (\\U0001f600)\") # bonus: use unicode for symbols/emoji\n"
   ]
  },
  {
   "cell_type": "code",
   "execution_count": 144,
   "metadata": {},
   "outputs": [
    {
     "data": {
      "text/html": [
       "<div><svg style=\"position: absolute; width: 0; height: 0; overflow: hidden\">\n",
       "<defs>\n",
       "<symbol id=\"icon-database\" viewBox=\"0 0 32 32\">\n",
       "<path d=\"M16 0c-8.837 0-16 2.239-16 5v4c0 2.761 7.163 5 16 5s16-2.239 16-5v-4c0-2.761-7.163-5-16-5z\"></path>\n",
       "<path d=\"M16 17c-8.837 0-16-2.239-16-5v6c0 2.761 7.163 5 16 5s16-2.239 16-5v-6c0 2.761-7.163 5-16 5z\"></path>\n",
       "<path d=\"M16 26c-8.837 0-16-2.239-16-5v6c0 2.761 7.163 5 16 5s16-2.239 16-5v-6c0 2.761-7.163 5-16 5z\"></path>\n",
       "</symbol>\n",
       "<symbol id=\"icon-file-text2\" viewBox=\"0 0 32 32\">\n",
       "<path d=\"M28.681 7.159c-0.694-0.947-1.662-2.053-2.724-3.116s-2.169-2.030-3.116-2.724c-1.612-1.182-2.393-1.319-2.841-1.319h-15.5c-1.378 0-2.5 1.121-2.5 2.5v27c0 1.378 1.122 2.5 2.5 2.5h23c1.378 0 2.5-1.122 2.5-2.5v-19.5c0-0.448-0.137-1.23-1.319-2.841zM24.543 5.457c0.959 0.959 1.712 1.825 2.268 2.543h-4.811v-4.811c0.718 0.556 1.584 1.309 2.543 2.268zM28 29.5c0 0.271-0.229 0.5-0.5 0.5h-23c-0.271 0-0.5-0.229-0.5-0.5v-27c0-0.271 0.229-0.5 0.5-0.5 0 0 15.499-0 15.5 0v7c0 0.552 0.448 1 1 1h7v19.5z\"></path>\n",
       "<path d=\"M23 26h-14c-0.552 0-1-0.448-1-1s0.448-1 1-1h14c0.552 0 1 0.448 1 1s-0.448 1-1 1z\"></path>\n",
       "<path d=\"M23 22h-14c-0.552 0-1-0.448-1-1s0.448-1 1-1h14c0.552 0 1 0.448 1 1s-0.448 1-1 1z\"></path>\n",
       "<path d=\"M23 18h-14c-0.552 0-1-0.448-1-1s0.448-1 1-1h14c0.552 0 1 0.448 1 1s-0.448 1-1 1z\"></path>\n",
       "</symbol>\n",
       "</defs>\n",
       "</svg>\n",
       "<style>/* CSS stylesheet for displaying xarray objects in jupyterlab.\n",
       " *\n",
       " */\n",
       "\n",
       ":root {\n",
       "  --xr-font-color0: var(--jp-content-font-color0, rgba(0, 0, 0, 1));\n",
       "  --xr-font-color2: var(--jp-content-font-color2, rgba(0, 0, 0, 0.54));\n",
       "  --xr-font-color3: var(--jp-content-font-color3, rgba(0, 0, 0, 0.38));\n",
       "  --xr-border-color: var(--jp-border-color2, #e0e0e0);\n",
       "  --xr-disabled-color: var(--jp-layout-color3, #bdbdbd);\n",
       "  --xr-background-color: var(--jp-layout-color0, white);\n",
       "  --xr-background-color-row-even: var(--jp-layout-color1, white);\n",
       "  --xr-background-color-row-odd: var(--jp-layout-color2, #eeeeee);\n",
       "}\n",
       "\n",
       "html[theme=dark],\n",
       "body[data-theme=dark],\n",
       "body.vscode-dark {\n",
       "  --xr-font-color0: rgba(255, 255, 255, 1);\n",
       "  --xr-font-color2: rgba(255, 255, 255, 0.54);\n",
       "  --xr-font-color3: rgba(255, 255, 255, 0.38);\n",
       "  --xr-border-color: #1F1F1F;\n",
       "  --xr-disabled-color: #515151;\n",
       "  --xr-background-color: #111111;\n",
       "  --xr-background-color-row-even: #111111;\n",
       "  --xr-background-color-row-odd: #313131;\n",
       "}\n",
       "\n",
       ".xr-wrap {\n",
       "  display: block !important;\n",
       "  min-width: 300px;\n",
       "  max-width: 700px;\n",
       "}\n",
       "\n",
       ".xr-text-repr-fallback {\n",
       "  /* fallback to plain text repr when CSS is not injected (untrusted notebook) */\n",
       "  display: none;\n",
       "}\n",
       "\n",
       ".xr-header {\n",
       "  padding-top: 6px;\n",
       "  padding-bottom: 6px;\n",
       "  margin-bottom: 4px;\n",
       "  border-bottom: solid 1px var(--xr-border-color);\n",
       "}\n",
       "\n",
       ".xr-header > div,\n",
       ".xr-header > ul {\n",
       "  display: inline;\n",
       "  margin-top: 0;\n",
       "  margin-bottom: 0;\n",
       "}\n",
       "\n",
       ".xr-obj-type,\n",
       ".xr-array-name {\n",
       "  margin-left: 2px;\n",
       "  margin-right: 10px;\n",
       "}\n",
       "\n",
       ".xr-obj-type {\n",
       "  color: var(--xr-font-color2);\n",
       "}\n",
       "\n",
       ".xr-sections {\n",
       "  padding-left: 0 !important;\n",
       "  display: grid;\n",
       "  grid-template-columns: 150px auto auto 1fr 20px 20px;\n",
       "}\n",
       "\n",
       ".xr-section-item {\n",
       "  display: contents;\n",
       "}\n",
       "\n",
       ".xr-section-item input {\n",
       "  display: none;\n",
       "}\n",
       "\n",
       ".xr-section-item input + label {\n",
       "  color: var(--xr-disabled-color);\n",
       "}\n",
       "\n",
       ".xr-section-item input:enabled + label {\n",
       "  cursor: pointer;\n",
       "  color: var(--xr-font-color2);\n",
       "}\n",
       "\n",
       ".xr-section-item input:enabled + label:hover {\n",
       "  color: var(--xr-font-color0);\n",
       "}\n",
       "\n",
       ".xr-section-summary {\n",
       "  grid-column: 1;\n",
       "  color: var(--xr-font-color2);\n",
       "  font-weight: 500;\n",
       "}\n",
       "\n",
       ".xr-section-summary > span {\n",
       "  display: inline-block;\n",
       "  padding-left: 0.5em;\n",
       "}\n",
       "\n",
       ".xr-section-summary-in:disabled + label {\n",
       "  color: var(--xr-font-color2);\n",
       "}\n",
       "\n",
       ".xr-section-summary-in + label:before {\n",
       "  display: inline-block;\n",
       "  content: '►';\n",
       "  font-size: 11px;\n",
       "  width: 15px;\n",
       "  text-align: center;\n",
       "}\n",
       "\n",
       ".xr-section-summary-in:disabled + label:before {\n",
       "  color: var(--xr-disabled-color);\n",
       "}\n",
       "\n",
       ".xr-section-summary-in:checked + label:before {\n",
       "  content: '▼';\n",
       "}\n",
       "\n",
       ".xr-section-summary-in:checked + label > span {\n",
       "  display: none;\n",
       "}\n",
       "\n",
       ".xr-section-summary,\n",
       ".xr-section-inline-details {\n",
       "  padding-top: 4px;\n",
       "  padding-bottom: 4px;\n",
       "}\n",
       "\n",
       ".xr-section-inline-details {\n",
       "  grid-column: 2 / -1;\n",
       "}\n",
       "\n",
       ".xr-section-details {\n",
       "  display: none;\n",
       "  grid-column: 1 / -1;\n",
       "  margin-bottom: 5px;\n",
       "}\n",
       "\n",
       ".xr-section-summary-in:checked ~ .xr-section-details {\n",
       "  display: contents;\n",
       "}\n",
       "\n",
       ".xr-array-wrap {\n",
       "  grid-column: 1 / -1;\n",
       "  display: grid;\n",
       "  grid-template-columns: 20px auto;\n",
       "}\n",
       "\n",
       ".xr-array-wrap > label {\n",
       "  grid-column: 1;\n",
       "  vertical-align: top;\n",
       "}\n",
       "\n",
       ".xr-preview {\n",
       "  color: var(--xr-font-color3);\n",
       "}\n",
       "\n",
       ".xr-array-preview,\n",
       ".xr-array-data {\n",
       "  padding: 0 5px !important;\n",
       "  grid-column: 2;\n",
       "}\n",
       "\n",
       ".xr-array-data,\n",
       ".xr-array-in:checked ~ .xr-array-preview {\n",
       "  display: none;\n",
       "}\n",
       "\n",
       ".xr-array-in:checked ~ .xr-array-data,\n",
       ".xr-array-preview {\n",
       "  display: inline-block;\n",
       "}\n",
       "\n",
       ".xr-dim-list {\n",
       "  display: inline-block !important;\n",
       "  list-style: none;\n",
       "  padding: 0 !important;\n",
       "  margin: 0;\n",
       "}\n",
       "\n",
       ".xr-dim-list li {\n",
       "  display: inline-block;\n",
       "  padding: 0;\n",
       "  margin: 0;\n",
       "}\n",
       "\n",
       ".xr-dim-list:before {\n",
       "  content: '(';\n",
       "}\n",
       "\n",
       ".xr-dim-list:after {\n",
       "  content: ')';\n",
       "}\n",
       "\n",
       ".xr-dim-list li:not(:last-child):after {\n",
       "  content: ',';\n",
       "  padding-right: 5px;\n",
       "}\n",
       "\n",
       ".xr-has-index {\n",
       "  font-weight: bold;\n",
       "}\n",
       "\n",
       ".xr-var-list,\n",
       ".xr-var-item {\n",
       "  display: contents;\n",
       "}\n",
       "\n",
       ".xr-var-item > div,\n",
       ".xr-var-item label,\n",
       ".xr-var-item > .xr-var-name span {\n",
       "  background-color: var(--xr-background-color-row-even);\n",
       "  margin-bottom: 0;\n",
       "}\n",
       "\n",
       ".xr-var-item > .xr-var-name:hover span {\n",
       "  padding-right: 5px;\n",
       "}\n",
       "\n",
       ".xr-var-list > li:nth-child(odd) > div,\n",
       ".xr-var-list > li:nth-child(odd) > label,\n",
       ".xr-var-list > li:nth-child(odd) > .xr-var-name span {\n",
       "  background-color: var(--xr-background-color-row-odd);\n",
       "}\n",
       "\n",
       ".xr-var-name {\n",
       "  grid-column: 1;\n",
       "}\n",
       "\n",
       ".xr-var-dims {\n",
       "  grid-column: 2;\n",
       "}\n",
       "\n",
       ".xr-var-dtype {\n",
       "  grid-column: 3;\n",
       "  text-align: right;\n",
       "  color: var(--xr-font-color2);\n",
       "}\n",
       "\n",
       ".xr-var-preview {\n",
       "  grid-column: 4;\n",
       "}\n",
       "\n",
       ".xr-index-preview {\n",
       "  grid-column: 2 / 5;\n",
       "  color: var(--xr-font-color2);\n",
       "}\n",
       "\n",
       ".xr-var-name,\n",
       ".xr-var-dims,\n",
       ".xr-var-dtype,\n",
       ".xr-preview,\n",
       ".xr-attrs dt {\n",
       "  white-space: nowrap;\n",
       "  overflow: hidden;\n",
       "  text-overflow: ellipsis;\n",
       "  padding-right: 10px;\n",
       "}\n",
       "\n",
       ".xr-var-name:hover,\n",
       ".xr-var-dims:hover,\n",
       ".xr-var-dtype:hover,\n",
       ".xr-attrs dt:hover {\n",
       "  overflow: visible;\n",
       "  width: auto;\n",
       "  z-index: 1;\n",
       "}\n",
       "\n",
       ".xr-var-attrs,\n",
       ".xr-var-data,\n",
       ".xr-index-data {\n",
       "  display: none;\n",
       "  background-color: var(--xr-background-color) !important;\n",
       "  padding-bottom: 5px !important;\n",
       "}\n",
       "\n",
       ".xr-var-attrs-in:checked ~ .xr-var-attrs,\n",
       ".xr-var-data-in:checked ~ .xr-var-data,\n",
       ".xr-index-data-in:checked ~ .xr-index-data {\n",
       "  display: block;\n",
       "}\n",
       "\n",
       ".xr-var-data > table {\n",
       "  float: right;\n",
       "}\n",
       "\n",
       ".xr-var-name span,\n",
       ".xr-var-data,\n",
       ".xr-index-name div,\n",
       ".xr-index-data,\n",
       ".xr-attrs {\n",
       "  padding-left: 25px !important;\n",
       "}\n",
       "\n",
       ".xr-attrs,\n",
       ".xr-var-attrs,\n",
       ".xr-var-data,\n",
       ".xr-index-data {\n",
       "  grid-column: 1 / -1;\n",
       "}\n",
       "\n",
       "dl.xr-attrs {\n",
       "  padding: 0;\n",
       "  margin: 0;\n",
       "  display: grid;\n",
       "  grid-template-columns: 125px auto;\n",
       "}\n",
       "\n",
       ".xr-attrs dt,\n",
       ".xr-attrs dd {\n",
       "  padding: 0;\n",
       "  margin: 0;\n",
       "  float: left;\n",
       "  padding-right: 10px;\n",
       "  width: auto;\n",
       "}\n",
       "\n",
       ".xr-attrs dt {\n",
       "  font-weight: normal;\n",
       "  grid-column: 1;\n",
       "}\n",
       "\n",
       ".xr-attrs dt:hover span {\n",
       "  display: inline-block;\n",
       "  background: var(--xr-background-color);\n",
       "  padding-right: 10px;\n",
       "}\n",
       "\n",
       ".xr-attrs dd {\n",
       "  grid-column: 2;\n",
       "  white-space: pre-wrap;\n",
       "  word-break: break-all;\n",
       "}\n",
       "\n",
       ".xr-icon-database,\n",
       ".xr-icon-file-text2,\n",
       ".xr-no-icon {\n",
       "  display: inline-block;\n",
       "  vertical-align: middle;\n",
       "  width: 1em;\n",
       "  height: 1.5em !important;\n",
       "  stroke-width: 0;\n",
       "  stroke: currentColor;\n",
       "  fill: currentColor;\n",
       "}\n",
       "</style><pre class='xr-text-repr-fallback'>&lt;xarray.DataArray &#x27;toa_lw_all_mon&#x27; ()&gt;\n",
       "array(0.31482101)\n",
       "Coordinates:\n",
       "    lat      int64 30\n",
       "    lon      int64 280</pre><div class='xr-wrap' style='display:none'><div class='xr-header'><div class='xr-obj-type'>xarray.DataArray</div><div class='xr-array-name'>'toa_lw_all_mon'</div></div><ul class='xr-sections'><li class='xr-section-item'><div class='xr-array-wrap'><input id='section-84d39331-b067-45f3-b864-2fbdcc6ebe56' class='xr-array-in' type='checkbox' checked><label for='section-84d39331-b067-45f3-b864-2fbdcc6ebe56' title='Show/hide data repr'><svg class='icon xr-icon-database'><use xlink:href='#icon-database'></use></svg></label><div class='xr-array-preview xr-preview'><span>0.3148</span></div><div class='xr-array-data'><pre>array(0.31482101)</pre></div></div></li><li class='xr-section-item'><input id='section-ef43b680-58aa-4a31-9d9d-ae61723726f6' class='xr-section-summary-in' type='checkbox'  checked><label for='section-ef43b680-58aa-4a31-9d9d-ae61723726f6' class='xr-section-summary' >Coordinates: <span>(2)</span></label><div class='xr-section-inline-details'></div><div class='xr-section-details'><ul class='xr-var-list'><li class='xr-var-item'><div class='xr-var-name'><span>lat</span></div><div class='xr-var-dims'>()</div><div class='xr-var-dtype'>int64</div><div class='xr-var-preview xr-preview'>30</div><input id='attrs-c4ad78c9-5074-4b9a-aee9-d3bd1e57e823' class='xr-var-attrs-in' type='checkbox' ><label for='attrs-c4ad78c9-5074-4b9a-aee9-d3bd1e57e823' title='Show/Hide attributes'><svg class='icon xr-icon-file-text2'><use xlink:href='#icon-file-text2'></use></svg></label><input id='data-f0deeafd-6d5c-40f4-8bdc-ed27413df048' class='xr-var-data-in' type='checkbox'><label for='data-f0deeafd-6d5c-40f4-8bdc-ed27413df048' title='Show/Hide data repr'><svg class='icon xr-icon-database'><use xlink:href='#icon-database'></use></svg></label><div class='xr-var-attrs'><dl class='xr-attrs'><dt><span>units :</span></dt><dd>degrees_north</dd></dl></div><div class='xr-var-data'><pre>array(30)</pre></div></li><li class='xr-var-item'><div class='xr-var-name'><span>lon</span></div><div class='xr-var-dims'>()</div><div class='xr-var-dtype'>int64</div><div class='xr-var-preview xr-preview'>280</div><input id='attrs-ebdd34c1-f477-4af8-9985-87876f102cc1' class='xr-var-attrs-in' type='checkbox' ><label for='attrs-ebdd34c1-f477-4af8-9985-87876f102cc1' title='Show/Hide attributes'><svg class='icon xr-icon-file-text2'><use xlink:href='#icon-file-text2'></use></svg></label><input id='data-d77eb6fb-6e7f-440c-89cd-949a7670d0ed' class='xr-var-data-in' type='checkbox'><label for='data-d77eb6fb-6e7f-440c-89cd-949a7670d0ed' title='Show/Hide data repr'><svg class='icon xr-icon-database'><use xlink:href='#icon-database'></use></svg></label><div class='xr-var-attrs'><dl class='xr-attrs'><dt><span>units :</span></dt><dd>degrees_east</dd></dl></div><div class='xr-var-data'><pre>array(280)</pre></div></li></ul></div></li><li class='xr-section-item'><input id='section-04c9cb5b-9cd5-442a-95ee-a8114a6a81fa' class='xr-section-summary-in' type='checkbox' disabled ><label for='section-04c9cb5b-9cd5-442a-95ee-a8114a6a81fa' class='xr-section-summary'  title='Expand/collapse section'>Indexes: <span>(0)</span></label><div class='xr-section-inline-details'></div><div class='xr-section-details'><ul class='xr-var-list'></ul></div></li><li class='xr-section-item'><input id='section-19026094-9e43-4fd1-8d22-eaba6afb916b' class='xr-section-summary-in' type='checkbox' disabled ><label for='section-19026094-9e43-4fd1-8d22-eaba6afb916b' class='xr-section-summary'  title='Expand/collapse section'>Attributes: <span>(0)</span></label><div class='xr-section-inline-details'></div><div class='xr-section-details'><dl class='xr-attrs'></dl></div></li></ul></div></div>"
      ],
      "text/plain": [
       "<xarray.DataArray 'toa_lw_all_mon' ()>\n",
       "array(0.31482101)\n",
       "Coordinates:\n",
       "    lat      int64 30\n",
       "    lon      int64 280"
      ]
     },
     "execution_count": 144,
     "metadata": {},
     "output_type": "execute_result"
    }
   ],
   "source": [
    "# bonus: \n",
    "# what if you don't know the dimension names (i.e., maybe 'lat' maybe 'latitude')\n",
    "dims = ds[varName].dims\n",
    "# if you *do* know the order, then can use it\n",
    "ds[varName].sel({dims[0]:latpt, dims[1]:lonpt}, method='nearest')\n",
    "# otherwise you probably have to do some kind of testing to infer which dimension is the one you want"
   ]
  },
  {
   "cell_type": "markdown",
   "metadata": {
    "editable": true,
    "slideshow": {
     "slide_type": ""
    },
    "tags": []
   },
   "source": [
    "## Simple Performance Profiling\n",
    "\n",
    "### Jupyter-specific \"magics\"\n",
    "When using Jupyter, \"magic\" commands can be used on individual lines (\"%\") or for the entire cell (\"%%\"). General information about Jupyter magics is here:\n",
    "https://ipython.readthedocs.io/en/stable/interactive/magics.html\n",
    "\n",
    "See also: https://www.aboutdatablog.com/post/top-8-magic-commands-in-jupyter-notebook\n",
    "\n",
    "For purposes of timing code, there are several of these commands:\n",
    "- `%%time`\n",
    "- `%%timeit`\n",
    "- `%%prun`\n",
    "These all correspond to tools that are built in to python, but have been wrapped up as convenience functions in Jupyter and ipython.\n",
    "\n",
    "In the following few cells, I just demonstrate simple uses for these. The examples load files that are on my machine, so they won't work for you unless you point to some files that can be loaded with `xr.open_mfdataset()`. \n",
    "\n",
    "The `%timeit` line-magic is shown to demonstrate its basic use. It is used to gather statistics on a particular expression. It runs the code several times (so be careful!). Some trivial functions are defined just to have something to time, and then I have several cells that shown how to control `%timeit` in terms of number of samples it does. \n",
    "\n",
    "Two cells show how `%%prun` can be used for detailed profiling. It goes deep into the code, so usually provides more fine-grained information that you will want. If you find yourself needing to really get into your code at this level of detail, I suggest you find some additional tools. Start here: https://realpython.com/python-profiling/\n",
    "\n",
    "After that, there's a section about `perf_counter`. I find `perf_counter` to be the most useful code-timing tool on a day-to-day basis."
   ]
  },
  {
   "cell_type": "code",
   "execution_count": 145,
   "metadata": {},
   "outputs": [
    {
     "name": "stdout",
     "output_type": "stream",
     "text": [
      "CPU times: user 6.51 s, sys: 493 ms, total: 7 s\n",
      "Wall time: 7.23 s\n"
     ]
    }
   ],
   "source": [
    "%%time\n",
    "\n",
    "# %%time provides a timer for the whole cell.\n",
    "\n",
    "from pathlib import Path\n",
    "import xarray as xr\n",
    "dataLocation = Path(\"/Users/brianpm/Dropbox/Data/CERES/Ed4.1\")\n",
    "ds = xr.open_mfdataset(sorted(dataLocation.glob(\"CERES_EBAF_Ed4.1_Subset_*.nc\")))"
   ]
  },
  {
   "cell_type": "code",
   "execution_count": 146,
   "metadata": {},
   "outputs": [
    {
     "name": "stdout",
     "output_type": "stream",
     "text": [
      "5.87 s ± 80.4 ms per loop (mean ± std. dev. of 7 runs, 1 loop each)\n"
     ]
    }
   ],
   "source": [
    "# basic use of %timeit on a single line of code:\n",
    "%timeit ds = xr.open_mfdataset(sorted(dataLocation.glob(\"CERES_EBAF_Ed4.1_Subset_*.nc\")))"
   ]
  },
  {
   "cell_type": "code",
   "execution_count": 147,
   "metadata": {
    "editable": true,
    "slideshow": {
     "slide_type": ""
    },
    "tags": []
   },
   "outputs": [],
   "source": [
    "import time # use for `sleep()` method\n",
    "\n",
    "def sleepy(n):\n",
    "    time.sleep(1/n)\n",
    "\n",
    "def dopey(n):\n",
    "    return sum(range(n))\n",
    "\n",
    "def grumpy(num):\n",
    "    if not hasattr(num, 'is_integer'):\n",
    "        print(f\"You have to provide a number\")\n",
    "        return None\n",
    "    if not num.is_integer():\n",
    "        print(f\"You have to provide a whole number\")\n",
    "        return None\n",
    "    if num > 1:\n",
    "        # Iterate from 2 to n / 2\n",
    "        for i in range(2, int(num/2)+1):\n",
    "            # If num is divisible by any number between\n",
    "            # 2 and n / 2, it is not prime\n",
    "            if (num % i) == 0:\n",
    "                print(f\"{num} is not a prime number\")\n",
    "                return False\n",
    "        else:\n",
    "            print(f\"{num} is a prime number\")\n",
    "            return True\n",
    "    else:\n",
    "        print(f\"{num} is not a prime number\")\n",
    "        return False"
   ]
  },
  {
   "cell_type": "code",
   "execution_count": 148,
   "metadata": {},
   "outputs": [
    {
     "name": "stdout",
     "output_type": "stream",
     "text": [
      "1.15 µs ± 10.7 ns per loop (mean ± std. dev. of 7 runs, 1,000,000 loops each)\n"
     ]
    }
   ],
   "source": [
    "# `%timeit` magic to measure a line\n",
    "%timeit [dopey(i) for i in range(10)]"
   ]
  },
  {
   "cell_type": "code",
   "execution_count": 149,
   "metadata": {},
   "outputs": [
    {
     "name": "stdout",
     "output_type": "stream",
     "text": [
      "1.22 µs ± 206 ns per loop (mean ± std. dev. of 7 runs, 5 loops each)\n"
     ]
    }
   ],
   "source": [
    "# better sampling\n",
    "%timeit -n5 [dopey(i) for i in range(10)]"
   ]
  },
  {
   "cell_type": "code",
   "execution_count": 150,
   "metadata": {},
   "outputs": [
    {
     "name": "stdout",
     "output_type": "stream",
     "text": [
      "1.26 µs ± 177 ns per loop (mean ± std. dev. of 10 runs, 5 loops each)\n"
     ]
    }
   ],
   "source": [
    "# change number of runs\n",
    "%timeit -n5 -r10 [dopey(i) for i in range(10)]"
   ]
  },
  {
   "cell_type": "code",
   "execution_count": 151,
   "metadata": {},
   "outputs": [
    {
     "data": {
      "text/plain": [
       "[0.0975983329990413,\n",
       " 0.09732383298978675,\n",
       " 0.09365462500136346,\n",
       " 0.09434850000252482,\n",
       " 0.09346799999184441]"
      ]
     },
     "execution_count": 151,
     "metadata": {},
     "output_type": "execute_result"
    }
   ],
   "source": [
    "# can also use timeit directly in python (no jupyter required)\n",
    "\n",
    "# https://ioflood.com/blog/timeit-python/\n",
    "\n",
    "import timeit\n",
    "timeit.repeat('n=10; output = sum(range(n))', repeat=5)"
   ]
  },
  {
   "cell_type": "code",
   "execution_count": 152,
   "metadata": {},
   "outputs": [
    {
     "name": "stdout",
     "output_type": "stream",
     "text": [
      " "
     ]
    },
    {
     "name": "stdout",
     "output_type": "stream",
     "text": [
      "         3 function calls in 0.000 seconds\n",
      "\n",
      "   Ordered by: internal time\n",
      "\n",
      "   ncalls  tottime  percall  cumtime  percall filename:lineno(function)\n",
      "        1    0.000    0.000    0.000    0.000 {method 'disable' of '_lsprof.Profiler' objects}\n",
      "        1    0.000    0.000    0.000    0.000 {built-in method builtins.exec}\n",
      "        1    0.000    0.000    0.000    0.000 <string>:1(<module>)"
     ]
    }
   ],
   "source": [
    "%%prun\n",
    "\n",
    "# simple example of prun\n",
    "\n",
    "n = 3 * 8 * 2"
   ]
  },
  {
   "cell_type": "code",
   "execution_count": 153,
   "metadata": {
    "editable": true,
    "slideshow": {
     "slide_type": ""
    },
    "tags": []
   },
   "outputs": [
    {
     "name": "stdout",
     "output_type": "stream",
     "text": [
      "start\n",
      "0 is not a prime number\n",
      "1 is not a prime number\n",
      "2 is a prime number\n",
      "3 is a prime number\n",
      "4 is not a prime number\n",
      "5 is a prime number\n",
      "6 is not a prime number\n",
      "7 is a prime number\n",
      "8 is not a prime number\n",
      "9 is not a prime number\n",
      "finish\n",
      " "
     ]
    },
    {
     "name": "stdout",
     "output_type": "stream",
     "text": [
      "         5659 function calls (5386 primitive calls) in 11.048 seconds\n",
      "\n",
      "   Ordered by: internal time\n",
      "\n",
      "   ncalls  tottime  percall  cumtime  percall filename:lineno(function)\n",
      "       11    8.653    0.787    8.653    0.787 {built-in method time.sleep}\n",
      "     35/1    2.371    0.068    0.000    0.000 {method 'control' of 'select.kqueue' objects}\n",
      "    105/1    0.003    0.000    0.000    0.000 socket.py:621(send)\n",
      "       43    0.002    0.000    0.002    0.000 attrsettr.py:65(_get_attr_opt)\n",
      "       37    0.001    0.000   21.291    0.575 base_events.py:1874(_run_once)\n",
      "       24    0.001    0.000    0.003    0.000 iostream.py:655(write)\n",
      "        2    0.001    0.000    0.001    0.000 {method '__exit__' of 'sqlite3.Connection' objects}\n",
      "       40    0.001    0.000    0.001    0.000 encoder.py:205(iterencode)\n",
      "     35/1    0.000    0.000    0.000    0.000 selectors.py:553(select)\n",
      "       11    0.000    0.000    0.007    0.001 iostream.py:616(_flush)\n",
      "       43    0.000    0.000    0.003    0.000 attrsettr.py:42(__getattr__)\n",
      "       10    0.000    0.000    0.004    0.000 815384671.py:9(grumpy)\n",
      "       21    0.000    0.000    0.001    0.000 socket.py:777(recv_multipart)\n",
      "  715/671    0.000    0.000    0.001    0.000 {built-in method builtins.isinstance}\n",
      "        1    0.000    0.000    0.000    0.000 {method 'disable' of '_lsprof.Profiler' objects}\n",
      "       21    0.000    0.000    0.003    0.000 iostream.py:259(schedule)\n",
      "       10    0.000    0.000    0.005    0.000 session.py:754(send)\n",
      "       20    0.000    0.000    0.000    0.000 {method 'isoformat' of 'datetime.datetime' objects}\n",
      "       63    0.000    0.000    0.000    0.000 typing.py:371(inner)\n",
      "       88    0.000    0.000    0.000    0.000 {built-in method builtins.hasattr}\n",
      "       21    0.000    0.000    0.008    0.000 zmqstream.py:607(_handle_events)\n",
      "       21    0.000    0.000    0.001    0.000 iostream.py:710(_flush_buffers)\n",
      "       40    0.000    0.000    0.002    0.000 __init__.py:183(dumps)\n",
      "        1    0.000    0.000    0.000    0.000 {method 'execute' of 'sqlite3.Connection' objects}\n",
      "     36/1    0.000    0.000    0.000    0.000 events.py:82(_run)\n",
      "      222    0.000    0.000    0.000    0.000 enum.py:709(__call__)\n",
      "       11    0.000    0.000    0.001    0.000 socket.py:698(send_multipart)\n",
      "       12    0.000    0.000    0.003    0.000 {built-in method builtins.print}\n",
      "       11    0.000    0.000    0.000    0.000 iostream.py:718(_rotate_buffers)\n",
      "       93    0.000    0.000    0.000    0.000 enum.py:1528(__or__)\n",
      "       10    0.000    0.000    0.003    0.000 session.py:690(serialize)\n",
      "       65    0.000    0.000    0.000    0.000 enum.py:1538(__and__)\n",
      "      156    0.000    0.000    0.000    0.000 traitlets.py:676(__get__)\n",
      "       35    0.000    0.000    0.015    0.000 {method 'run' of '_contextvars.Context' objects}\n",
      "      222    0.000    0.000    0.000    0.000 enum.py:1112(__new__)\n",
      "      156    0.000    0.000    0.000    0.000 traitlets.py:629(get)\n",
      "       10    0.000    0.000    0.000    0.000 {built-in method now}\n",
      "       10    0.000    0.000    0.000    0.000 session.py:600(msg_id)\n",
      "       42    0.000    0.000    0.000    0.000 typing.py:1232(__hash__)\n",
      "       40    0.000    0.000    0.001    0.000 encoder.py:183(encode)\n",
      "      125    0.000    0.000    0.000    0.000 {built-in method builtins.max}\n",
      "       22    0.000    0.000    0.001    0.000 zmqstream.py:687(_rebuild_io_state)\n",
      "       23    0.000    0.000    0.000    0.000 threading.py:1199(is_alive)\n",
      "       24    0.000    0.000    0.002    0.000 iostream.py:577(_schedule_flush)\n",
      "       21    0.000    0.000    0.004    0.000 zmqstream.py:648(_handle_recv)\n",
      "       10    0.000    0.000    0.000    0.000 {method 'copy' of '_hashlib.HMAC' objects}\n",
      "       10    0.000    0.000    7.849    0.785 815384671.py:3(sleepy)\n",
      "       11    0.000    0.000    0.000    0.000 base_events.py:744(call_at)\n",
      "       10    0.000    0.000    0.001    0.000 session.py:649(msg)\n",
      "       10    0.000    0.000    0.000    0.000 session.py:281(extract_header)\n",
      "       35    0.000    0.000    0.000    0.000 selector_events.py:746(_process_events)\n",
      "     26/4    0.000    0.000    0.000    0.000 {method 'acquire' of '_thread.lock' objects}\n",
      "       40    0.000    0.000    0.002    0.000 session.py:92(json_packer)\n",
      "       12    0.000    0.000    0.001    0.000 traitlets.py:689(set)\n",
      "       12    0.000    0.000    0.000    0.000 traitlets.py:727(_cross_validate)\n",
      "       15    0.000    0.000    0.000    0.000 events.py:32(__init__)\n",
      "      250    0.000    0.000    0.000    0.000 {built-in method builtins.len}\n",
      "       12    0.000    0.000    0.000    0.000 traitlets.py:718(_validate)\n",
      "       78    0.000    0.000    0.000    0.000 base_events.py:711(time)\n",
      "       21    0.000    0.000    0.003    0.000 zmqstream.py:580(_run_callback)\n",
      "       20    0.000    0.000    0.001    0.000 jsonutil.py:107(json_default)\n",
      "       22    0.000    0.000    0.000    0.000 queue.py:97(empty)\n",
      "       43    0.000    0.000    0.000    0.000 {built-in method builtins.getattr}\n",
      "       10    0.000    0.000    0.001    0.000 session.py:675(sign)\n",
      "       43    0.000    0.000    0.000    0.000 <frozen importlib._bootstrap>:1384(_handle_fromlist)\n",
      "       21    0.000    0.000    0.002    0.000 iostream.py:157(_handle_event)\n",
      "       50    0.000    0.000    0.000    0.000 {method 'encode' of 'str' objects}\n",
      "       10    0.000    0.000    0.000    0.000 traitlets.py:2635(validate)\n",
      "       10    0.000    0.000    0.000    0.000 {method 'hexdigest' of '_hashlib.HMAC' objects}\n",
      "       22    0.000    0.000    0.000    0.000 {built-in method _abc._abc_subclasscheck}\n",
      "       13    0.000    0.000    0.008    0.001 ioloop.py:730(_run_callback)\n",
      "       10    0.000    0.000    0.001    0.000 asyncio.py:200(call_at)\n",
      "        1    0.000    0.000   10.846   10.846 {built-in method builtins.exec}\n",
      "       22    0.000    0.000    0.000    0.000 queue.py:209(_qsize)\n",
      "       11    0.000    0.000    0.000    0.000 base_events.py:720(call_later)\n",
      "       21    0.000    0.000    0.000    0.000 iostream.py:138(_event_pipe)\n",
      "       22    0.000    0.000    0.000    0.000 typing.py:1168(__instancecheck__)\n",
      "       22    0.000    0.000    0.001    0.000 zmqstream.py:710(_update_handler)\n",
      "       11    0.000    0.000    0.001    0.000 iostream.py:278(_really_send)\n",
      "       58    0.000    0.000    0.000    0.000 {method 'append' of 'collections.deque' objects}\n",
      "       22    0.000    0.000    0.000    0.000 {built-in method builtins.issubclass}\n",
      "       19    0.000    0.000    0.007    0.000 asyncio.py:190(_handle_events)\n",
      "       10    0.000    0.000    0.001    0.000 session.py:645(msg_header)\n",
      "       20    0.000    0.000    0.000    0.000 {method 'replace' of 'str' objects}\n",
      "       24    0.000    0.000    0.000    0.000 iostream.py:550(_is_master_process)\n",
      "       40    0.000    0.000    0.000    0.000 {method 'update' of '_hashlib.HMAC' objects}\n",
      "       11    0.000    0.000    0.001    0.000 iostream.py:276(<lambda>)\n",
      "       78    0.000    0.000    0.000    0.000 {built-in method time.monotonic}\n",
      "       22    0.000    0.000    0.000    0.000 typing.py:1439(__subclasscheck__)\n",
      "       12    0.000    0.000    0.000    0.000 {built-in method _heapq.heappop}\n",
      "       11    0.000    0.000    0.000    0.000 events.py:107(__init__)\n",
      "       11    0.000    0.000    0.000    0.000 {built-in method _heapq.heappush}\n",
      "       10    0.000    0.000    0.000    0.000 hmac.py:122(copy)\n",
      "       24    0.000    0.000    0.000    0.000 iostream.py:505(parent_header)\n",
      "      373    0.000    0.000    0.000    0.000 typing.py:2107(cast)\n",
      "       10    0.000    0.000    0.000    0.000 {built-in method builtins.locals}\n",
      "       20    0.000    0.000    0.000    0.000 jsonutil.py:38(_ensure_tzinfo)\n",
      "       23    0.000    0.000    0.000    0.000 threading.py:1132(_wait_for_tstate_lock)\n",
      "       12    0.000    0.000    0.001    0.000 traitlets.py:708(__set__)\n",
      "       65    0.000    0.000    0.000    0.000 {built-in method posix.getpid}\n",
      "       10    0.000    0.000    0.001    0.000 ioloop.py:584(call_later)\n",
      "       24    0.000    0.000    0.000    0.000 {method 'write' of '_io.StringIO' objects}\n",
      "       10    0.000    0.000    0.000    0.000 session.py:198(utcnow)\n",
      "        1    0.000    0.000    0.803    0.803 <string>:1(<module>)\n",
      "       10    0.000    0.000    0.001    0.000 iostream.py:587(_schedule_in_thread)\n",
      "       32    0.000    0.000    0.000    0.000 {built-in method builtins.min}\n",
      "       56    0.000    0.000    0.000    0.000 {method 'popleft' of 'collections.deque' objects}\n",
      "       53    0.000    0.000    0.000    0.000 {method 'append' of 'list' objects}\n",
      "       22    0.000    0.000    0.000    0.000 zmqstream.py:566(sending)\n",
      "       10    0.000    0.000    0.000    0.000 {method 'getvalue' of '_io.StringIO' objects}\n",
      "       36    0.000    0.000    0.000    0.000 {method '__exit__' of '_thread.RLock' objects}\n",
      "       40    0.000    0.000    0.000    0.000 encoder.py:105(__init__)\n",
      "       36    0.000    0.000    0.000    0.000 {method 'items' of 'dict' objects}\n",
      "       24    0.000    0.000    0.000    0.000 {method 'get' of '_contextvars.ContextVar' objects}\n",
      "       43    0.000    0.000    0.000    0.000 {method 'upper' of 'str' objects}\n",
      "       10    0.000    0.000    0.001    0.000 iostream.py:271(send_multipart)\n",
      "       10    0.000    0.000    0.000    0.000 session.py:272(msg_header)\n",
      "       27    0.000    0.000    0.000    0.000 {method '__exit__' of '_thread.lock' objects}\n",
      "       22    0.000    0.000    0.000    0.000 <frozen abc>:121(__subclasscheck__)\n",
      "       19    0.000    0.000    0.000    0.000 base_events.py:1859(_add_callback)\n",
      "       10    0.000    0.000    0.000    0.000 iostream.py:725(_hooks)\n",
      "       40    0.000    0.000    0.000    0.000 hmac.py:117(update)\n",
      "       19    0.000    0.000    0.000    0.000 selectors.py:275(_key_from_fd)\n",
      "       14    0.000    0.000    0.000    0.000 {built-in method _contextvars.copy_context}\n",
      "       10    0.000    0.000    0.000    0.000 hmac.py:161(hexdigest)\n",
      "       40    0.000    0.000    0.000    0.000 {method 'join' of 'str' objects}\n",
      "       20    0.000    0.000    0.000    0.000 ioloop.py:529(time)\n",
      "       10    0.000    0.000    0.000    0.000 {method 'is_integer' of 'int' objects}\n",
      "        1    0.000    0.000    0.000    0.000 iostream.py:127(_event_pipe_gc)\n",
      "       11    0.000    0.000    0.000    0.000 iostream.py:216(_check_mp_mode)\n",
      "        1    0.000    0.000    0.000    0.000 iostream.py:118(_run_event_pipe_gc)\n",
      "        2    0.000    0.000    0.000    0.000 tasks.py:643(sleep)\n",
      "        1    0.000    0.000    0.000    0.000 inspect.py:3119(_bind)\n",
      "        4    0.000    0.000    0.000    0.000 base_events.py:791(_call_soon)\n",
      "       24    0.000    0.000    0.000    0.000 {method 'get' of 'dict' objects}\n",
      "       42    0.000    0.000    0.000    0.000 {built-in method builtins.hash}\n",
      "       10    0.000    0.000    0.000    0.000 {built-in method __new__ of type object at 0x102b3f2c0}\n",
      "       20    0.000    0.000    0.000    0.000 {built-in method time.time}\n",
      "       43    0.000    0.000    0.000    0.000 zmqstream.py:562(receiving)\n",
      "        1    0.000    0.000    0.000    0.000 futures.py:311(_set_result_unless_cancelled)\n",
      "       11    0.000    0.000    0.000    0.000 events.py:123(__lt__)\n",
      "       10    0.000    0.000    0.000    0.000 {method 'close' of '_io.StringIO' objects}\n",
      "       10    0.000    0.000    0.000    0.000 {method 'copy' of 'dict' objects}\n",
      "       11    0.000    0.000    0.000    0.000 iostream.py:213(_is_master_process)\n",
      "        1    0.000    0.000    0.000    0.000 {method 'recv' of '_socket.socket' objects}\n",
      "       23    0.000    0.000    0.000    0.000 threading.py:580(is_set)\n",
      "       11    0.000    0.000    0.000    0.000 tz.py:74(utcoffset)\n",
      "        1    0.000    0.000    0.000    0.000 kernelbase.py:302(poll_control_queue)\n",
      "        1    0.000    0.000    0.000    0.000 events.py:151(cancel)\n",
      "        1    0.000    0.000    0.001    0.001 history.py:836(writeout_cache)\n",
      "       22    0.000    0.000    0.000    0.000 {method 'extend' of 'list' objects}\n",
      "        1    0.000    0.000    0.000    0.000 base_events.py:425(create_future)\n",
      "        1    0.000    0.000    0.000    0.000 {method 'set_result' of '_asyncio.Future' objects}\n",
      "       10    0.000    0.000    0.000    0.000 traitlets.py:2558(_validate_bounds)\n",
      "        1    0.000    0.000    0.000    0.000 {method 'send' of '_socket.socket' objects}\n",
      "        3    0.000    0.000    0.000    0.000 base_events.py:762(call_soon)\n",
      "        1    0.000    0.000    0.000    0.000 traitlets.py:1527(_notify_observers)\n",
      "        1    0.000    0.000    0.000    0.000 decorator.py:199(fix)\n",
      "        2    0.000    0.000    0.000    0.000 traitlets.py:3631(set)\n",
      "        1    0.000    0.000    0.000    0.000 inspect.py:2935(apply_defaults)\n",
      "        2    0.000    0.000    0.000    0.000 asyncio.py:215(add_callback)\n",
      "        1    0.000    0.000    0.001    0.001 history.py:824(_writeout_input_cache)\n",
      "        1    0.000    0.000    0.000    0.000 queues.py:225(get)\n",
      "       15    0.000    0.000    0.000    0.000 base_events.py:517(_check_closed)\n",
      "        1    0.000    0.000    0.000    0.000 _base.py:537(set_result)\n",
      "        3    0.000    0.000    0.000    0.000 threading.py:278(__enter__)\n",
      "        1    0.000    0.000    0.000    0.000 inspect.py:3254(bind)\n",
      "       11    0.000    0.000    0.000    0.000 iostream.py:255(closed)\n",
      "        1    0.000    0.000    0.001    0.001 history.py:54(only_when_enabled)\n",
      "        2    0.000    0.000    0.000    0.000 traitlets.py:3474(validate)\n",
      "       10    0.000    0.000    0.000    0.000 hmac.py:139(_current)\n",
      "       18    0.000    0.000    0.000    0.000 base_events.py:1969(get_debug)\n",
      "        3    0.000    0.000    0.000    0.000 {built-in method _asyncio.get_running_loop}\n",
      "        1    0.000    0.000    0.001    0.001 decorator.py:229(fun)\n",
      "        1    0.000    0.000    0.000    0.000 queues.py:256(get_nowait)\n",
      "        2    0.000    0.000    0.000    0.000 traitlets.py:3624(validate_elements)\n",
      "        1    0.000    0.000    0.000    0.000 traitlets.py:1512(_notify_trait)\n",
      "        1    0.000    0.000    0.000    0.000 traitlets.py:1523(notify_change)\n",
      "        1    0.000    0.000    0.000    0.000 futures.py:394(_call_set_state)\n",
      "        1    0.000    0.000    0.000    0.000 threading.py:403(notify_all)\n",
      "        1    0.000    0.000    0.000    0.000 inspect.py:2882(args)\n",
      "        3    0.000    0.000    0.000    0.000 threading.py:281(__exit__)\n",
      "        6    0.000    0.000    0.000    0.000 {built-in method builtins.next}\n",
      "        1    0.000    0.000    0.000    0.000 base_events.py:815(call_soon_threadsafe)\n",
      "        1    0.000    0.000    0.000    0.000 _base.py:337(_invoke_callbacks)\n",
      "        2    0.000    0.000    0.000    0.000 {method 'cancelled' of '_asyncio.Future' objects}\n",
      "        2    0.000    0.000    0.000    0.000 traitlets.py:2304(validate)\n",
      "        2    0.000    0.000    0.000    0.000 zmqstream.py:718(<lambda>)\n",
      "        1    0.000    0.000    0.000    0.000 history.py:830(_writeout_output_cache)\n",
      "        1    0.000    0.000    0.000    0.000 threading.py:290(_acquire_restore)\n",
      "        1    0.000    0.000    0.000    0.000 events.py:68(cancel)\n",
      "        1    0.000    0.000    0.000    0.000 threading.py:287(_release_save)\n",
      "        1    0.000    0.000    0.000    0.000 selector_events.py:141(_write_to_self)\n",
      "        1    0.000    0.000    0.000    0.000 {built-in method _thread.allocate_lock}\n",
      "        1    0.000    0.000    0.000    0.000 inspect.py:2905(kwargs)\n",
      "        1    0.000    0.000    0.000    0.000 threading.py:373(notify)\n",
      "        1    0.000    0.000    0.000    0.000 {method 'values' of 'mappingproxy' objects}\n",
      "        1    0.000    0.000    0.000    0.000 threading.py:606(clear)\n",
      "        3    0.000    0.000    0.000    0.000 {method 'items' of 'mappingproxy' objects}\n",
      "        2    0.000    0.000    0.000    0.000 {method '__enter__' of '_thread.lock' objects}\n",
      "        2    0.000    0.000    0.000    0.000 traitlets.py:3486(validate_elements)\n",
      "        2    0.000    0.000    0.000    0.000 {built-in method builtins.iter}\n",
      "       10    0.000    0.000    0.000    0.000 inspect.py:2794(kind)\n",
      "        1    0.000    0.000    0.000    0.000 unix_events.py:81(_process_self_data)\n",
      "        1    0.000    0.000    0.000    0.000 threading.py:293(_is_owned)\n",
      "        1    0.000    0.000    0.000    0.000 queues.py:173(qsize)\n",
      "        1    0.000    0.000    0.000    0.000 {method '__enter__' of '_thread.RLock' objects}\n",
      "        4    0.000    0.000    0.000    0.000 inspect.py:3075(parameters)\n",
      "        1    0.000    0.000    0.000    0.000 queues.py:322(_consume_expired)\n",
      "        1    0.000    0.000    0.000    0.000 base_events.py:1869(_timer_handle_cancelled)\n",
      "        4    0.000    0.000    0.000    0.000 inspect.py:2782(name)\n",
      "        1    0.000    0.000    0.000    0.000 {method 'release' of '_thread.lock' objects}\n",
      "        1    0.000    0.000    0.000    0.000 {method '_is_owned' of '_thread.RLock' objects}\n",
      "        1    0.000    0.000    0.000    0.000 inspect.py:2874(__init__)\n",
      "        1    0.000    0.000    0.000    0.000 queues.py:59(_set_timeout)\n",
      "        1    0.000    0.000    0.000    0.000 base_events.py:697(is_closed)"
     ]
    }
   ],
   "source": [
    "%%prun\n",
    "print(\"start\")\n",
    "time.sleep(1)\n",
    "for i in range(10):\n",
    "    sleepy(1)\n",
    "    grumpy(i)\n",
    "print(\"finish\")\n"
   ]
  },
  {
   "cell_type": "markdown",
   "metadata": {},
   "source": [
    "### perf_counter\n",
    "\n",
    "In the following, define a function, `foo`, that might be something that takes a while. Here I open the files defined above, but you could just put something else in.\n",
    "\n",
    "The `perf_counter` method is in the `time` module, so `import time` is needed.\n",
    "\n",
    "The easy way to use `perf_counter` is to mark a starting time with it, and then run it again later and take the difference. \n",
    "\n",
    "For doing more detailed timing through blocks of code, I find it is convenient to have a decorator that can be applied to all my functions. This is instead of typing lots of calls to `perf_counter` and print statements (helps with clean up when finished). \n",
    "\n",
    "We define a decorator called `func_timer`. A decorator is defined as a function that gets another function as the input and \"wraps\" the input function with some other code. In our case, we just put `perf_counter` calls around the input function and return the result of the function without changing it. For more on decorators:\n",
    "- https://realpython.com/primer-on-python-decorators\n",
    "- https://machinelearningmastery.com/a-gentle-introduction-to-decorators-in-python/\n",
    "- https://ioflood.com/blog/python-decorator"
   ]
  },
  {
   "cell_type": "code",
   "execution_count": 154,
   "metadata": {
    "editable": true,
    "slideshow": {
     "slide_type": ""
    },
    "tags": []
   },
   "outputs": [],
   "source": [
    "def foo(fils):\n",
    "    return xr.open_mfdataset(fils)"
   ]
  },
  {
   "cell_type": "code",
   "execution_count": 155,
   "metadata": {
    "editable": true,
    "slideshow": {
     "slide_type": ""
    },
    "tags": []
   },
   "outputs": [
    {
     "data": {
      "text/plain": [
       "99805.195132166"
      ]
     },
     "execution_count": 155,
     "metadata": {},
     "output_type": "execute_result"
    }
   ],
   "source": [
    "time.perf_counter()"
   ]
  },
  {
   "cell_type": "code",
   "execution_count": 156,
   "metadata": {
    "editable": true,
    "slideshow": {
     "slide_type": ""
    },
    "tags": []
   },
   "outputs": [
    {
     "name": "stdout",
     "output_type": "stream",
     "text": [
      "The elapsed time was 6.79295191600977 seconds.\n",
      "CPU times: user 6.26 s, sys: 468 ms, total: 6.73 s\n",
      "Wall time: 6.79 s\n"
     ]
    }
   ],
   "source": [
    "%%time\n",
    "start_time = time.perf_counter()\n",
    "some_stuff = foo(sorted(dataLocation.glob(\"CERES_EBAF_Ed4.1_Subset_*.nc\")))\n",
    "end_time = time.perf_counter()\n",
    "print(f\"The elapsed time was {end_time - start_time} seconds.\")"
   ]
  },
  {
   "cell_type": "code",
   "execution_count": 157,
   "metadata": {
    "editable": true,
    "slideshow": {
     "slide_type": ""
    },
    "tags": []
   },
   "outputs": [],
   "source": [
    "def func_timer(func):\n",
    "    def wrapper(*args, **kwargs):\n",
    "        start_time = time.perf_counter()\n",
    "        value = func(*args, **kwargs)\n",
    "        end_time = time.perf_counter()\n",
    "        run_time = end_time - start_time\n",
    "        print(f\"Elapsed time for function {repr(func.__name__)} was {run_time} seconds.\")\n",
    "        return value\n",
    "    return wrapper"
   ]
  },
  {
   "cell_type": "code",
   "execution_count": 158,
   "metadata": {
    "editable": true,
    "slideshow": {
     "slide_type": ""
    },
    "tags": []
   },
   "outputs": [],
   "source": [
    "# decorate foo ... usually just go back to original place where it is defined,\n",
    "# but we repeat it here for clarity.\n",
    "@func_timer\n",
    "def foo(fils):\n",
    "    return xr.open_mfdataset(fils)"
   ]
  },
  {
   "cell_type": "code",
   "execution_count": 159,
   "metadata": {
    "editable": true,
    "slideshow": {
     "slide_type": ""
    },
    "tags": []
   },
   "outputs": [
    {
     "name": "stdout",
     "output_type": "stream",
     "text": [
      "Elapsed time for function 'foo' was 7.238571957990644 seconds.\n"
     ]
    }
   ],
   "source": [
    "# now run \"foo\" but it has been \"decorated\" so it will print the timing information.\n",
    "some_stuff = foo(sorted(dataLocation.glob(\"CERES_EBAF_Ed4.1_Subset_*.nc\")))"
   ]
  },
  {
   "cell_type": "code",
   "execution_count": 160,
   "metadata": {
    "editable": true,
    "slideshow": {
     "slide_type": ""
    },
    "tags": []
   },
   "outputs": [],
   "source": [
    "# apply the same timer decorator to more functions.\n",
    "\n",
    "@func_timer\n",
    "def sleepy(n):\n",
    "    time.sleep(1/n)\n",
    "\n",
    "@func_timer\n",
    "def grumpy(num):\n",
    "    if not hasattr(num, 'is_integer'):\n",
    "        print(f\"You have to provide a number\")\n",
    "        return None\n",
    "    if not num.is_integer():\n",
    "        print(f\"You have to provide a whole number\")\n",
    "        return None\n",
    "    if num > 1:\n",
    "        # Iterate from 2 to n / 2\n",
    "        for i in range(2, int(num/2)+1):\n",
    "            # If num is divisible by any number between\n",
    "            # 2 and n / 2, it is not prime\n",
    "            if (num % i) == 0:\n",
    "                print(f\"{num} is not a prime number\")\n",
    "                return False\n",
    "        else:\n",
    "            print(f\"{num} is a prime number\")\n",
    "            return True\n",
    "    else:\n",
    "        print(f\"{num} is not a prime number\")\n",
    "        return False"
   ]
  },
  {
   "cell_type": "code",
   "execution_count": 161,
   "metadata": {
    "editable": true,
    "slideshow": {
     "slide_type": ""
    },
    "tags": []
   },
   "outputs": [
    {
     "name": "stdout",
     "output_type": "stream",
     "text": [
      "start\n",
      "Elapsed time for function 'sleepy' was 1.0041664589953143 seconds.\n",
      "0 is not a prime number\n",
      "Elapsed time for function 'grumpy' was 2.12500017369166e-05 seconds.\n",
      "Elapsed time for function 'sleepy' was 0.5027005000010831 seconds.\n",
      "1 is not a prime number\n",
      "Elapsed time for function 'grumpy' was 2.2957989131100476e-05 seconds.\n",
      "Elapsed time for function 'sleepy' was 0.33838704200752545 seconds.\n",
      "2 is a prime number\n",
      "Elapsed time for function 'grumpy' was 2.808299905154854e-05 seconds.\n",
      "Elapsed time for function 'sleepy' was 0.2544782920012949 seconds.\n",
      "3 is a prime number\n",
      "Elapsed time for function 'grumpy' was 5.6541000958532095e-05 seconds.\n",
      "Elapsed time for function 'sleepy' was 0.20951795800647233 seconds.\n",
      "4 is not a prime number\n",
      "Elapsed time for function 'grumpy' was 5.1749986596405506e-05 seconds.\n",
      "Elapsed time for function 'sleepy' was 0.16874633300176356 seconds.\n",
      "5 is a prime number\n",
      "Elapsed time for function 'grumpy' was 5.4916992667131126e-05 seconds.\n",
      "Elapsed time for function 'sleepy' was 0.14725737500702962 seconds.\n",
      "6 is not a prime number\n",
      "Elapsed time for function 'grumpy' was 7.183400157373399e-05 seconds.\n",
      "Elapsed time for function 'sleepy' was 0.13009200000669807 seconds.\n",
      "7 is a prime number\n",
      "Elapsed time for function 'grumpy' was 3.341700357850641e-05 seconds.\n",
      "Elapsed time for function 'sleepy' was 0.11621095800364856 seconds.\n",
      "8 is not a prime number\n",
      "Elapsed time for function 'grumpy' was 5.225000495556742e-05 seconds.\n",
      "Elapsed time for function 'sleepy' was 0.101616957996157 seconds.\n",
      "9 is not a prime number\n",
      "Elapsed time for function 'grumpy' was 5.6958990171551704e-05 seconds.\n",
      "Elapsed time for function 'sleepy' was 0.0931786659930367 seconds.\n",
      "10 is not a prime number\n",
      "Elapsed time for function 'grumpy' was 6.658400525338948e-05 seconds.\n",
      "Elapsed time for function 'sleepy' was 0.08556716699968092 seconds.\n",
      "11 is a prime number\n",
      "Elapsed time for function 'grumpy' was 5.354199674911797e-05 seconds.\n",
      "Elapsed time for function 'sleepy' was 0.07932470900414046 seconds.\n",
      "12 is not a prime number\n",
      "Elapsed time for function 'grumpy' was 3.8291997043415904e-05 seconds.\n",
      "Elapsed time for function 'sleepy' was 0.07223958399845287 seconds.\n",
      "13 is a prime number\n",
      "Elapsed time for function 'grumpy' was 5.062500713393092e-05 seconds.\n",
      "Elapsed time for function 'sleepy' was 0.06934070799616165 seconds.\n",
      "14 is not a prime number\n",
      "Elapsed time for function 'grumpy' was 5.604200123343617e-05 seconds.\n",
      "Elapsed time for function 'sleepy' was 0.0642814580060076 seconds.\n",
      "15 is not a prime number\n",
      "Elapsed time for function 'grumpy' was 3.0416005756706e-05 seconds.\n",
      "Elapsed time for function 'sleepy' was 0.06332641599874478 seconds.\n",
      "16 is not a prime number\n",
      "Elapsed time for function 'grumpy' was 1.3374999980442226e-05 seconds.\n",
      "Elapsed time for function 'sleepy' was 0.060573791997740045 seconds.\n",
      "17 is a prime number\n",
      "Elapsed time for function 'grumpy' was 1.291598891839385e-05 seconds.\n",
      "Elapsed time for function 'sleepy' was 0.05765029200119898 seconds.\n",
      "18 is not a prime number\n",
      "Elapsed time for function 'grumpy' was 1.0333998943679035e-05 seconds.\n",
      "Elapsed time for function 'sleepy' was 0.051139041999704204 seconds.\n",
      "19 is a prime number\n",
      "Elapsed time for function 'grumpy' was 1.012500433716923e-05 seconds.\n",
      "Elapsed time for function 'sleepy' was 0.05263737500354182 seconds.\n",
      "20 is not a prime number\n",
      "Elapsed time for function 'grumpy' was 9.83300560619682e-06 seconds.\n",
      "Elapsed time for function 'sleepy' was 0.047348499996587634 seconds.\n",
      "21 is not a prime number\n",
      "Elapsed time for function 'grumpy' was 1.2541990145109594e-05 seconds.\n",
      "finish\n",
      "CPU times: user 19.5 ms, sys: 4.28 ms, total: 23.8 ms\n",
      "Wall time: 4.78 s\n"
     ]
    }
   ],
   "source": [
    "%%time\n",
    "print(\"start\")\n",
    "time.sleep(1)\n",
    "for i in range(22):\n",
    "    sleepy((i+1))\n",
    "    grumpy(i)\n",
    "print(\"finish\")"
   ]
  },
  {
   "cell_type": "code",
   "execution_count": 162,
   "metadata": {},
   "outputs": [],
   "source": [
    "# Example\n",
    "\n",
    "# Use the same decorator on three versions of the same calculation:\n",
    "# run a comparison of summing a long list of numbers using a loop, python, or numpy\n",
    "\n",
    "arrayOfNumbers = rng.random(10_000_000)\n",
    "\n",
    "\n",
    "@func_timer\n",
    "def sum_by_loop(a):\n",
    "    \"\"\"Sum with a naive loop.\"\"\"\n",
    "    tot = 0\n",
    "    for val in a:\n",
    "        tot = tot + val\n",
    "    return tot\n",
    "\n",
    "\n",
    "@func_timer\n",
    "def sum_py(a):\n",
    "    \"\"\"Use python's native `sum` method.\"\"\"\n",
    "    return sum(a)\n",
    "\n",
    "@func_timer\n",
    "def sum_by_np(a):\n",
    "    \"\"\"Use numpy's `sum` method.\"\"\"\n",
    "    return np.sum(a)\n"
   ]
  },
  {
   "cell_type": "code",
   "execution_count": 163,
   "metadata": {},
   "outputs": [
    {
     "name": "stdout",
     "output_type": "stream",
     "text": [
      "Elapsed time for function 'sum_by_loop' was 0.5169932919961866 seconds.\n",
      "Elapsed time for function 'sum_py' was 0.44800083299924154 seconds.\n",
      "Elapsed time for function 'sum_by_np' was 0.0019196659995941445 seconds.\n"
     ]
    },
    {
     "data": {
      "text/plain": [
       "4999065.117409178"
      ]
     },
     "execution_count": 163,
     "metadata": {},
     "output_type": "execute_result"
    }
   ],
   "source": [
    "sum_by_loop(arrayOfNumbers)\n",
    "\n",
    "sum_py(arrayOfNumbers)\n",
    "\n",
    "sum_by_np(arrayOfNumbers)\n",
    "\n"
   ]
  },
  {
   "cell_type": "code",
   "execution_count": 164,
   "metadata": {},
   "outputs": [],
   "source": [
    "# Bonus: \n",
    "# compare getting the unique values inside an list\n",
    "\n",
    "import string\n",
    "letters = list(string.ascii_lowercase)\n",
    "\n",
    "@func_timer\n",
    "def get_uniq_set(x):\n",
    "    unique_values = set(x)\n",
    "    number_unique = len(unique_values)\n",
    "    return number_unique, unique_values\n",
    "\n",
    "@func_timer\n",
    "def get_uniq_np(x):\n",
    "    unique_values = np.unique(x)\n",
    "    number_unique = len(unique_values)\n",
    "    return number_unique, unique_values"
   ]
  },
  {
   "cell_type": "code",
   "execution_count": 173,
   "metadata": {},
   "outputs": [
    {
     "name": "stdout",
     "output_type": "stream",
     "text": [
      "i = 10\n",
      "Elapsed time for function 'get_uniq_set' was 1.0749994544312358e-05 seconds.\n",
      "Elapsed time for function 'get_uniq_np' was 8.90829978743568e-05 seconds.\n",
      "answers: n1 = 8, n2 = 8\n",
      "i = 100\n",
      "Elapsed time for function 'get_uniq_set' was 2.1333005861379206e-05 seconds.\n",
      "Elapsed time for function 'get_uniq_np' was 9.241700172424316e-05 seconds.\n",
      "answers: n1 = 24, n2 = 24\n",
      "i = 1000\n",
      "Elapsed time for function 'get_uniq_set' was 0.0001429999974789098 seconds.\n",
      "Elapsed time for function 'get_uniq_np' was 0.000184959004400298 seconds.\n",
      "answers: n1 = 26, n2 = 26\n",
      "i = 100000\n",
      "Elapsed time for function 'get_uniq_set' was 0.01293075000285171 seconds.\n",
      "Elapsed time for function 'get_uniq_np' was 0.0034943329956149682 seconds.\n",
      "answers: n1 = 26, n2 = 26\n",
      "i = 1000000\n",
      "Elapsed time for function 'get_uniq_set' was 0.12930979100929108 seconds.\n",
      "Elapsed time for function 'get_uniq_np' was 0.036655916992458515 seconds.\n",
      "answers: n1 = 26, n2 = 26\n",
      "i = 10000000\n",
      "Elapsed time for function 'get_uniq_set' was 1.2777415409946116 seconds.\n",
      "Elapsed time for function 'get_uniq_np' was 0.38347000000067055 seconds.\n",
      "answers: n1 = 26, n2 = 26\n"
     ]
    }
   ],
   "source": [
    "for i in [10, 100, 1000, 100_000, 1_000_000, 10_000_000]:\n",
    "    llist = np.random.choice(letters, i, replace=True)\n",
    "    print(f\"{i = }\")\n",
    "    n1, v1 = get_uniq_set(llist)\n",
    "    n2, v2 = get_uniq_np(llist)\n",
    "    print(f\"answers: {n1 = }, {n2 = }\")\n",
    "    "
   ]
  },
  {
   "cell_type": "code",
   "execution_count": 168,
   "metadata": {},
   "outputs": [
    {
     "data": {
      "text/plain": [
       "list"
      ]
     },
     "execution_count": 168,
     "metadata": {},
     "output_type": "execute_result"
    }
   ],
   "source": [
    "# look for an individual letter\n",
    "type(llist)\n",
    "# try set intersection"
   ]
  },
  {
   "cell_type": "code",
   "execution_count": 174,
   "metadata": {},
   "outputs": [
    {
     "data": {
      "text/plain": [
       "array([False, False, False, ..., False, False, False])"
      ]
     },
     "execution_count": 174,
     "metadata": {},
     "output_type": "execute_result"
    }
   ],
   "source": [
    "# find all indices where llist equals some value\n",
    "llist == 'b'"
   ]
  },
  {
   "cell_type": "code",
   "execution_count": 171,
   "metadata": {},
   "outputs": [
    {
     "data": {
      "text/plain": [
       "['k',\n",
       " 'y',\n",
       " 'l',\n",
       " 'p',\n",
       " 'n',\n",
       " 'i',\n",
       " 'z',\n",
       " 'l',\n",
       " 'c',\n",
       " 'x',\n",
       " 'c',\n",
       " 'i',\n",
       " 'o',\n",
       " 'b',\n",
       " 'c',\n",
       " 'x',\n",
       " 'z',\n",
       " 'l',\n",
       " 'g',\n",
       " 'k',\n",
       " 'm',\n",
       " 'h',\n",
       " 'f',\n",
       " 'l',\n",
       " 'c',\n",
       " 'i',\n",
       " 's',\n",
       " 'l',\n",
       " 'n',\n",
       " 'o',\n",
       " 'f',\n",
       " 's',\n",
       " 'v',\n",
       " 'c',\n",
       " 'r',\n",
       " 'u',\n",
       " 'r',\n",
       " 'f',\n",
       " 'e',\n",
       " 'b',\n",
       " 'c',\n",
       " 'o',\n",
       " 'j',\n",
       " 'q',\n",
       " 'o',\n",
       " 'y',\n",
       " 'l',\n",
       " 'f',\n",
       " 'b',\n",
       " 't',\n",
       " 'c',\n",
       " 'o',\n",
       " 'n',\n",
       " 'f',\n",
       " 'h',\n",
       " 't',\n",
       " 'b',\n",
       " 'y',\n",
       " 'd',\n",
       " 'l',\n",
       " 'c',\n",
       " 'g',\n",
       " 'e',\n",
       " 'y',\n",
       " 'p',\n",
       " 'p',\n",
       " 't',\n",
       " 't',\n",
       " 'w',\n",
       " 't',\n",
       " 'h',\n",
       " 'w',\n",
       " 'o',\n",
       " 's',\n",
       " 'x',\n",
       " 'y',\n",
       " 's',\n",
       " 'k',\n",
       " 'e',\n",
       " 'b',\n",
       " 'c',\n",
       " 'w',\n",
       " 'g',\n",
       " 'i',\n",
       " 'm',\n",
       " 'a',\n",
       " 'q',\n",
       " 'c',\n",
       " 'v',\n",
       " 'f',\n",
       " 'y',\n",
       " 'm',\n",
       " 't',\n",
       " 't',\n",
       " 'g',\n",
       " 'h',\n",
       " 'q',\n",
       " 's',\n",
       " 'g',\n",
       " 'f']"
      ]
     },
     "execution_count": 171,
     "metadata": {},
     "output_type": "execute_result"
    }
   ],
   "source": [
    "llist[0:100]"
   ]
  },
  {
   "cell_type": "code",
   "execution_count": null,
   "metadata": {},
   "outputs": [],
   "source": []
  }
 ],
 "metadata": {
  "kernelspec": {
   "display_name": "Python 3 (ipykernel)",
   "language": "python",
   "name": "python3"
  },
  "language_info": {
   "codemirror_mode": {
    "name": "ipython",
    "version": 3
   },
   "file_extension": ".py",
   "mimetype": "text/x-python",
   "name": "python",
   "nbconvert_exporter": "python",
   "pygments_lexer": "ipython3",
   "version": "3.12.0"
  }
 },
 "nbformat": 4,
 "nbformat_minor": 4
}
